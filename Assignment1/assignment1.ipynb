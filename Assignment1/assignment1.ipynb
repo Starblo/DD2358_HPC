{
 "cells": [
  {
   "cell_type": "markdown",
   "metadata": {},
   "source": [
    "# Assignment 1"
   ]
  },
  {
   "cell_type": "markdown",
   "metadata": {},
   "source": [
    "## Task 1.1 \n",
    "\n",
    "Calculate the Clock Granularity of different Python Timers"
   ]
  },
  {
   "metadata": {},
   "cell_type": "code",
   "outputs": [],
   "execution_count": null,
   "source": [
    "import numpy as np\n",
    "import time\n",
    "import timeit\n",
    "\n",
    "def checktick(timer_func):\n",
    "    M = 1000\n",
    "    timesfound = np.empty((M,))\n",
    "    for i in range(M):\n",
    "        t1 =  timer_func() # get timestamp from timer\n",
    "        t2 = timer_func() # get timestamp from timer\n",
    "        while (t2 - t1) < 1e-16: # if zero then we are below clock granularity, retake timing\n",
    "            t2 = timer_func() # get timestamp from timer\n",
    "        t1 = t2 # this is outside the loop\n",
    "        timesfound[i] = t1 # record the time stamp\n",
    "    Delta = np.diff(timesfound) # it should be cast to int only when needed\n",
    "    minDelta = Delta.min()\n",
    "    return minDelta\n",
    "\n",
    "s_to_ns = 10**9\n",
    "time_granularity = checktick(time.time) * s_to_ns\n",
    "timeit_default_granularity = checktick(timeit.default_timer) * s_to_ns\n",
    "time_ns_granularity = checktick(time.time_ns)\n",
    "\n",
    "print(f\"time.time() granularity (ns): {time_granularity}\")\n",
    "print(f\"timeit.default_timer() granularity (ns): {timeit_default_granularity}\")\n",
    "print(f\"time.time_ns() granularity (ns): {time_ns_granularity}\")"
   ]
  },
  {
   "cell_type": "markdown",
   "metadata": {},
   "source": [
    "## Task 1.2\n",
    "\n",
    "Timing the Julia set code functions"
   ]
  },
  {
   "cell_type": "code",
   "metadata": {
    "ExecuteTime": {
     "end_time": "2025-01-22T21:38:05.436452Z",
     "start_time": "2025-01-22T21:37:48.736532Z"
    }
   },
   "source": [
    "# 导入必要模块和 JuliaSet.py\n",
    "import JuliaSet\n",
    "from timeit import default_timer as timer\n",
    "import numpy as np\n",
    "\n",
    "# 定义多次运行时间测量函数\n",
    "def measure_and_report(func, *args, **kwargs):\n",
    "    \"\"\"测量函数运行时间的平均值和标准偏差\"\"\"\n",
    "    times = []  # 存储多次运行时间\n",
    "    num_runs = 10  # 运行次数\n",
    "    for _ in range(num_runs):\n",
    "        start_time = timer()\n",
    "        func(*args, **kwargs)\n",
    "        end_time = timer()\n",
    "        times.append(end_time - start_time)\n",
    "\n",
    "    # 计算平均值和标准偏差\n",
    "    avg_time = np.mean(times)\n",
    "    std_dev = np.std(times)\n",
    "    print(f\"Function {func.__name__} average time: {avg_time:.6f} seconds\")\n",
    "    print(f\"Function {func.__name__} standard deviation: {std_dev:.6f} seconds\")\n",
    "    return avg_time, std_dev\n",
    "\n",
    "# 测试 calc_pure_python 函数\n",
    "print(\"Testing calc_pure_python...\")\n",
    "desired_width = 1000\n",
    "max_iterations = 300\n",
    "measure_and_report(JuliaSet.calc_pure_python, desired_width, max_iterations)\n",
    "\n",
    "# 测试 calculate_z_serial_purepython 函数\n",
    "print(\"Testing calculate_z_serial_purepython...\")\n",
    "zs = [complex(x, y) for x in range(-10, 10) for y in range(-10, 10)]\n",
    "cs = [complex(-0.62772, -0.42193)] * len(zs)\n",
    "measure_and_report(JuliaSet.calculate_z_serial_purepython, max_iterations, zs, cs)\n",
    "\n"
   ],
   "outputs": [
    {
     "name": "stdout",
     "output_type": "stream",
     "text": [
      "Testing calc_pure_python...\n",
      "Length of x: 1000\n",
      "Total elements: 1000000\n",
      "calculate_z_serial_purepython took 1.5596091747283936 seconds\n",
      "Length of x: 1000\n",
      "Total elements: 1000000\n",
      "calculate_z_serial_purepython took 1.5612716674804688 seconds\n",
      "Length of x: 1000\n",
      "Total elements: 1000000\n",
      "calculate_z_serial_purepython took 1.5601990222930908 seconds\n",
      "Length of x: 1000\n",
      "Total elements: 1000000\n",
      "calculate_z_serial_purepython took 1.5541560649871826 seconds\n",
      "Length of x: 1000\n",
      "Total elements: 1000000\n",
      "calculate_z_serial_purepython took 1.5616278648376465 seconds\n",
      "Length of x: 1000\n",
      "Total elements: 1000000\n",
      "calculate_z_serial_purepython took 1.5697150230407715 seconds\n",
      "Length of x: 1000\n",
      "Total elements: 1000000\n",
      "calculate_z_serial_purepython took 1.5711431503295898 seconds\n",
      "Length of x: 1000\n",
      "Total elements: 1000000\n",
      "calculate_z_serial_purepython took 1.6004490852355957 seconds\n",
      "Length of x: 1000\n",
      "Total elements: 1000000\n",
      "calculate_z_serial_purepython took 1.5798821449279785 seconds\n",
      "Length of x: 1000\n",
      "Total elements: 1000000\n",
      "calculate_z_serial_purepython took 1.5740511417388916 seconds\n",
      "Function calc_pure_python average time: 1.668826 seconds\n",
      "Function calc_pure_python standard deviation: 0.011789 seconds\n",
      "Testing calculate_z_serial_purepython...\n",
      "Function calculate_z_serial_purepython average time: 0.000029 seconds\n",
      "Function calculate_z_serial_purepython standard deviation: 0.000002 seconds\n"
     ]
    },
    {
     "data": {
      "text/plain": [
       "(np.float64(2.8762797592207788e-05), np.float64(1.7599931567367076e-06))"
      ]
     },
     "execution_count": 5,
     "metadata": {},
     "output_type": "execute_result"
    }
   ],
   "execution_count": 5
  }
 ],
 "metadata": {
  "kernelspec": {
   "display_name": "py37data",
   "language": "python",
   "name": "python3"
  },
  "language_info": {
   "codemirror_mode": {
    "name": "ipython",
    "version": 3
   },
   "file_extension": ".py",
   "mimetype": "text/x-python",
   "name": "python",
   "nbconvert_exporter": "python",
   "pygments_lexer": "ipython3",
   "version": "3.7.16"
  }
 },
 "nbformat": 4,
 "nbformat_minor": 2
}
