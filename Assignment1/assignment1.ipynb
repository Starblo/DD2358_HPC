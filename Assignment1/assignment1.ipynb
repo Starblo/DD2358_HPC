{
 "cells": [
  {
   "cell_type": "markdown",
   "metadata": {},
   "source": [
    "# Assignment 1"
   ]
  },
  {
   "cell_type": "markdown",
   "metadata": {},
   "source": [
    "## Task 1.1 \n",
    "\n",
    "Calculate the Clock Granularity of different Python Timers"
   ]
  },
  {
   "cell_type": "code",
   "execution_count": 16,
   "metadata": {},
   "outputs": [
    {
     "name": "stdout",
     "output_type": "stream",
     "text": [
      "time.time() granularity (ns): 51021.575927734375\n",
      "timeit.default_timer() granularity (ns): 199.9999312829459\n",
      "time.time_ns() granularity (ns): 50432.0\n"
     ]
    }
   ],
   "source": [
    "import numpy as np\n",
    "import time\n",
    "import timeit\n",
    "\n",
    "def checktick(timer_func):\n",
    "    M = 1000\n",
    "    timesfound = np.empty((M,))\n",
    "    for i in range(M):\n",
    "        t1 =  timer_func() # get timestamp from timer\n",
    "        t2 = timer_func() # get timestamp from timer\n",
    "        while (t2 - t1) < 1e-16: # if zero then we are below clock granularity, retake timing\n",
    "            t2 = timer_func() # get timestamp from timer\n",
    "        t1 = t2 # this is outside the loop\n",
    "        timesfound[i] = t1 # record the time stamp\n",
    "    Delta = np.diff(timesfound) # it should be cast to int only when needed\n",
    "    minDelta = Delta.min()\n",
    "    return minDelta\n",
    "\n",
    "s_to_ns = 10**9\n",
    "time_granularity = checktick(time.time) * s_to_ns\n",
    "timeit_default_granularity = checktick(timeit.default_timer) * s_to_ns\n",
    "time_ns_granularity = checktick(time.time_ns)\n",
    "\n",
    "print(f\"time.time() granularity (ns): {time_granularity}\")\n",
    "print(f\"timeit.default_timer() granularity (ns): {timeit_default_granularity}\")\n",
    "print(f\"time.time_ns() granularity (ns): {time_ns_granularity}\")"
   ]
  },
  {
   "cell_type": "markdown",
   "metadata": {},
   "source": [
    "## Task 1.2\n",
    "\n",
    "Timing the Julia set code functions"
   ]
  },
  {
   "cell_type": "code",
   "execution_count": null,
   "metadata": {},
   "outputs": [],
   "source": []
  }
 ],
 "metadata": {
  "kernelspec": {
   "display_name": "py37data",
   "language": "python",
   "name": "python3"
  },
  "language_info": {
   "codemirror_mode": {
    "name": "ipython",
    "version": 3
   },
   "file_extension": ".py",
   "mimetype": "text/x-python",
   "name": "python",
   "nbconvert_exporter": "python",
   "pygments_lexer": "ipython3",
   "version": "3.7.16"
  }
 },
 "nbformat": 4,
 "nbformat_minor": 2
}
